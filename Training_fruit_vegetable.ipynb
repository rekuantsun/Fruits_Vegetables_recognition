{
  "cells": [
    {
      "cell_type": "markdown",
      "metadata": {
        "id": "view-in-github",
        "colab_type": "text"
      },
      "source": [
        "<a href=\"https://colab.research.google.com/github/rekuantsun/Fruits_Vegetables_recognition/blob/main/Training_fruit_vegetable.ipynb\" target=\"_parent\"><img src=\"https://colab.research.google.com/assets/colab-badge.svg\" alt=\"Open In Colab\"/></a>"
      ]
    },
    {
      "cell_type": "markdown",
      "metadata": {
        "id": "BeB10ZMav-SW"
      },
      "source": [
        "#Importing Dataset"
      ]
    },
    {
      "cell_type": "code",
      "execution_count": 1,
      "metadata": {
        "colab": {
          "base_uri": "https://localhost:8080/"
        },
        "id": "CkSZ9-gPukrQ",
        "outputId": "6d811296-53e3-474c-b8c0-683739430d6d"
      },
      "outputs": [
        {
          "output_type": "stream",
          "name": "stdout",
          "text": [
            "Mounted at /content/drive\n"
          ]
        }
      ],
      "source": [
        "from google.colab import drive\n",
        "drive.mount('/content/drive')"
      ]
    },
    {
      "cell_type": "markdown",
      "metadata": {
        "id": "5vUbBvinu8zW"
      },
      "source": [
        "#Importing libraries"
      ]
    },
    {
      "cell_type": "code",
      "execution_count": 2,
      "metadata": {
        "id": "4JsejDm3uxTS"
      },
      "outputs": [],
      "source": [
        "import numpy as np\n",
        "import tensorflow as tf\n",
        "import matplotlib.pyplot as plt"
      ]
    },
    {
      "cell_type": "markdown",
      "metadata": {
        "id": "i2w52yYrvTu9"
      },
      "source": [
        "#Data Preprocessing"
      ]
    },
    {
      "cell_type": "markdown",
      "metadata": {
        "id": "vU3NlcKCwlIZ"
      },
      "source": [
        "##Training Image preprocessing"
      ]
    },
    {
      "cell_type": "code",
      "execution_count": 3,
      "metadata": {
        "colab": {
          "base_uri": "https://localhost:8080/"
        },
        "id": "Kjoa0oUHvQAv",
        "outputId": "6438fb8b-0509-4984-f760-cd0d15526de7"
      },
      "outputs": [
        {
          "output_type": "stream",
          "name": "stdout",
          "text": [
            "Found 3115 files belonging to 36 classes.\n"
          ]
        }
      ],
      "source": [
        "training_set = tf.keras.utils.image_dataset_from_directory(\n",
        "    '/content/drive/MyDrive/Các thuật toán tối ưu/Fruits and vegetables detection/train',\n",
        "    labels=\"inferred\",\n",
        "    label_mode=\"categorical\",\n",
        "    class_names=None,\n",
        "    color_mode=\"rgb\",\n",
        "    batch_size=32,\n",
        "    image_size=(64, 64),\n",
        "    shuffle=True,\n",
        "    seed=None,\n",
        "    validation_split=None,\n",
        "    subset=None,\n",
        "    interpolation=\"bilinear\",\n",
        "    follow_links=False,\n",
        "    crop_to_aspect_ratio=False\n",
        ")"
      ]
    },
    {
      "cell_type": "markdown",
      "metadata": {
        "id": "nK9Ev76o0mdJ"
      },
      "source": [
        "##Validation Image Preprocessing"
      ]
    },
    {
      "cell_type": "code",
      "execution_count": 4,
      "metadata": {
        "colab": {
          "base_uri": "https://localhost:8080/"
        },
        "id": "Tocls4IowkNB",
        "outputId": "9c0720ee-9267-4844-bc12-3df94ed70d0c"
      },
      "outputs": [
        {
          "output_type": "stream",
          "name": "stdout",
          "text": [
            "Found 351 files belonging to 36 classes.\n"
          ]
        }
      ],
      "source": [
        "validation_set = tf.keras.utils.image_dataset_from_directory(\n",
        "    '/content/drive/MyDrive/Các thuật toán tối ưu/Fruits and vegetables detection/validation',\n",
        "    labels=\"inferred\",\n",
        "    label_mode=\"categorical\",\n",
        "    class_names=None,\n",
        "    color_mode=\"rgb\",\n",
        "    batch_size=32,\n",
        "    image_size=(64, 64),\n",
        "    shuffle=True,\n",
        "    seed=None,\n",
        "    validation_split=None,\n",
        "    subset=None,\n",
        "    interpolation=\"bilinear\",\n",
        "    follow_links=False,\n",
        "    crop_to_aspect_ratio=False\n",
        ")"
      ]
    },
    {
      "cell_type": "markdown",
      "metadata": {
        "id": "OQ_TcbD7r2Cw"
      },
      "source": [
        "#Building Model"
      ]
    },
    {
      "cell_type": "code",
      "execution_count": 5,
      "metadata": {
        "id": "cUMiJrPvsBTU"
      },
      "outputs": [],
      "source": [
        "cnn = tf.keras.models.Sequential()"
      ]
    },
    {
      "cell_type": "markdown",
      "metadata": {
        "id": "mgFWYq7ssLkV"
      },
      "source": [
        "##Building Convolution Layer"
      ]
    },
    {
      "cell_type": "code",
      "execution_count": 6,
      "metadata": {
        "id": "LoaODWuZrHFg"
      },
      "outputs": [],
      "source": [
        "cnn.add(tf.keras.layers.Conv2D(filters=32,kernel_size=3,padding='same',activation='relu',input_shape=[64,64,3]))\n",
        "cnn.add(tf.keras.layers.Conv2D(filters=32,kernel_size=3,activation='relu'))\n",
        "cnn.add(tf.keras.layers.MaxPool2D(pool_size=2,strides=2))"
      ]
    },
    {
      "cell_type": "code",
      "execution_count": 7,
      "metadata": {
        "id": "b5-b7yo8mJHq"
      },
      "outputs": [],
      "source": [
        "cnn.add(tf.keras.layers.Dropout(0.25))"
      ]
    },
    {
      "cell_type": "code",
      "execution_count": 8,
      "metadata": {
        "id": "5-potKmKsOr2"
      },
      "outputs": [],
      "source": [
        "cnn.add(tf.keras.layers.Conv2D(filters=64,kernel_size=3,padding='same',activation='relu'))\n",
        "cnn.add(tf.keras.layers.Conv2D(filters=64,kernel_size=3,activation='relu'))\n",
        "cnn.add(tf.keras.layers.MaxPool2D(pool_size=2,strides=2))"
      ]
    },
    {
      "cell_type": "code",
      "execution_count": 9,
      "metadata": {
        "id": "0B29AmGWmZeV"
      },
      "outputs": [],
      "source": [
        "cnn.add(tf.keras.layers.Dropout(0.25))"
      ]
    },
    {
      "cell_type": "code",
      "execution_count": 10,
      "metadata": {
        "id": "NPZ2NGthuTv5"
      },
      "outputs": [],
      "source": [
        "cnn.add(tf.keras.layers.Flatten())"
      ]
    },
    {
      "cell_type": "code",
      "execution_count": 11,
      "metadata": {
        "id": "demjWjcWuc3q"
      },
      "outputs": [],
      "source": [
        "cnn.add(tf.keras.layers.Dense(units=512,activation='relu'))"
      ]
    },
    {
      "cell_type": "code",
      "execution_count": 12,
      "metadata": {
        "id": "_cD4jLBauZtk"
      },
      "outputs": [],
      "source": [
        "cnn.add(tf.keras.layers.Dense(units=256,activation='relu'))"
      ]
    },
    {
      "cell_type": "code",
      "execution_count": 13,
      "metadata": {
        "id": "2onuZO6YuBF3"
      },
      "outputs": [],
      "source": [
        "cnn.add(tf.keras.layers.Dropout(0.5)) #To avoid overfitting"
      ]
    },
    {
      "cell_type": "code",
      "execution_count": 14,
      "metadata": {
        "id": "toAqflkCuwoS"
      },
      "outputs": [],
      "source": [
        "#Output Layer\n",
        "cnn.add(tf.keras.layers.Dense(units=36,activation='softmax'))"
      ]
    },
    {
      "cell_type": "markdown",
      "metadata": {
        "id": "sYYdAFZDvt1P"
      },
      "source": [
        "#Compiling and Training Phase"
      ]
    },
    {
      "cell_type": "code",
      "execution_count": 15,
      "metadata": {
        "id": "yAcyiEfVvVzw"
      },
      "outputs": [],
      "source": [
        "cnn.compile(optimizer='adam',loss='categorical_crossentropy',metrics=['accuracy'])"
      ]
    },
    {
      "cell_type": "code",
      "execution_count": 16,
      "metadata": {
        "colab": {
          "base_uri": "https://localhost:8080/"
        },
        "id": "X0MROJsdlC5Z",
        "outputId": "90d3398c-3c8e-4004-b5a1-5a50941c0c98"
      },
      "outputs": [
        {
          "output_type": "stream",
          "name": "stdout",
          "text": [
            "Model: \"sequential\"\n",
            "_________________________________________________________________\n",
            " Layer (type)                Output Shape              Param #   \n",
            "=================================================================\n",
            " conv2d (Conv2D)             (None, 64, 64, 32)        896       \n",
            "                                                                 \n",
            " conv2d_1 (Conv2D)           (None, 62, 62, 32)        9248      \n",
            "                                                                 \n",
            " max_pooling2d (MaxPooling2  (None, 31, 31, 32)        0         \n",
            " D)                                                              \n",
            "                                                                 \n",
            " dropout (Dropout)           (None, 31, 31, 32)        0         \n",
            "                                                                 \n",
            " conv2d_2 (Conv2D)           (None, 31, 31, 64)        18496     \n",
            "                                                                 \n",
            " conv2d_3 (Conv2D)           (None, 29, 29, 64)        36928     \n",
            "                                                                 \n",
            " max_pooling2d_1 (MaxPoolin  (None, 14, 14, 64)        0         \n",
            " g2D)                                                            \n",
            "                                                                 \n",
            " dropout_1 (Dropout)         (None, 14, 14, 64)        0         \n",
            "                                                                 \n",
            " flatten (Flatten)           (None, 12544)             0         \n",
            "                                                                 \n",
            " dense (Dense)               (None, 512)               6423040   \n",
            "                                                                 \n",
            " dense_1 (Dense)             (None, 256)               131328    \n",
            "                                                                 \n",
            " dropout_2 (Dropout)         (None, 256)               0         \n",
            "                                                                 \n",
            " dense_2 (Dense)             (None, 36)                9252      \n",
            "                                                                 \n",
            "=================================================================\n",
            "Total params: 6629188 (25.29 MB)\n",
            "Trainable params: 6629188 (25.29 MB)\n",
            "Non-trainable params: 0 (0.00 Byte)\n",
            "_________________________________________________________________\n"
          ]
        }
      ],
      "source": [
        "cnn.summary()"
      ]
    },
    {
      "cell_type": "code",
      "execution_count": 17,
      "metadata": {
        "colab": {
          "base_uri": "https://localhost:8080/"
        },
        "id": "K3W4dNUrvxIw",
        "outputId": "59a7c4d1-f85b-42af-d658-a1272cfdb555"
      },
      "outputs": [
        {
          "output_type": "stream",
          "name": "stdout",
          "text": [
            "Epoch 1/32\n",
            "98/98 [==============================] - 505s 5s/step - loss: 8.8974 - accuracy: 0.0276 - val_loss: 3.5766 - val_accuracy: 0.0427\n",
            "Epoch 2/32\n",
            "98/98 [==============================] - 72s 698ms/step - loss: 3.5749 - accuracy: 0.0340 - val_loss: 3.5602 - val_accuracy: 0.0427\n",
            "Epoch 3/32\n",
            "98/98 [==============================] - 73s 681ms/step - loss: 3.5681 - accuracy: 0.0411 - val_loss: 3.5529 - val_accuracy: 0.0427\n",
            "Epoch 4/32\n",
            "98/98 [==============================] - 72s 689ms/step - loss: 3.5508 - accuracy: 0.0424 - val_loss: 3.5056 - val_accuracy: 0.0541\n",
            "Epoch 5/32\n",
            "98/98 [==============================] - 71s 669ms/step - loss: 3.4778 - accuracy: 0.0671 - val_loss: 3.3671 - val_accuracy: 0.1339\n",
            "Epoch 6/32\n",
            "98/98 [==============================] - 72s 680ms/step - loss: 3.3587 - accuracy: 0.0867 - val_loss: 3.1541 - val_accuracy: 0.1538\n",
            "Epoch 7/32\n",
            "98/98 [==============================] - 69s 664ms/step - loss: 3.2528 - accuracy: 0.1091 - val_loss: 2.9872 - val_accuracy: 0.2051\n",
            "Epoch 8/32\n",
            "98/98 [==============================] - 72s 675ms/step - loss: 3.1113 - accuracy: 0.1361 - val_loss: 2.7916 - val_accuracy: 0.2536\n",
            "Epoch 9/32\n",
            "98/98 [==============================] - 72s 686ms/step - loss: 3.0235 - accuracy: 0.1612 - val_loss: 2.5627 - val_accuracy: 0.3219\n",
            "Epoch 10/32\n",
            "98/98 [==============================] - 69s 663ms/step - loss: 2.9553 - accuracy: 0.1839 - val_loss: 2.6220 - val_accuracy: 0.3305\n",
            "Epoch 11/32\n",
            "98/98 [==============================] - 70s 650ms/step - loss: 2.7439 - accuracy: 0.2382 - val_loss: 2.3310 - val_accuracy: 0.3989\n",
            "Epoch 12/32\n",
            "98/98 [==============================] - 70s 659ms/step - loss: 2.6334 - accuracy: 0.2684 - val_loss: 2.2651 - val_accuracy: 0.4046\n",
            "Epoch 13/32\n",
            "98/98 [==============================] - 71s 672ms/step - loss: 2.5565 - accuracy: 0.2944 - val_loss: 2.2642 - val_accuracy: 0.4131\n",
            "Epoch 14/32\n",
            "98/98 [==============================] - 70s 665ms/step - loss: 2.3934 - accuracy: 0.3348 - val_loss: 2.0181 - val_accuracy: 0.4758\n",
            "Epoch 15/32\n",
            "98/98 [==============================] - 69s 662ms/step - loss: 2.2838 - accuracy: 0.3685 - val_loss: 1.8995 - val_accuracy: 0.4986\n",
            "Epoch 16/32\n",
            "98/98 [==============================] - 70s 675ms/step - loss: 2.2086 - accuracy: 0.3734 - val_loss: 1.8350 - val_accuracy: 0.5242\n",
            "Epoch 17/32\n",
            "98/98 [==============================] - 70s 669ms/step - loss: 2.1317 - accuracy: 0.4119 - val_loss: 1.7713 - val_accuracy: 0.5328\n",
            "Epoch 18/32\n",
            "98/98 [==============================] - 69s 664ms/step - loss: 2.0770 - accuracy: 0.4141 - val_loss: 1.6950 - val_accuracy: 0.5613\n",
            "Epoch 19/32\n",
            "98/98 [==============================] - 69s 661ms/step - loss: 1.9628 - accuracy: 0.4613 - val_loss: 1.5413 - val_accuracy: 0.5954\n",
            "Epoch 20/32\n",
            "98/98 [==============================] - 69s 666ms/step - loss: 1.9047 - accuracy: 0.4693 - val_loss: 1.6122 - val_accuracy: 0.5783\n",
            "Epoch 21/32\n",
            "98/98 [==============================] - 70s 675ms/step - loss: 1.8167 - accuracy: 0.4896 - val_loss: 1.4500 - val_accuracy: 0.6125\n",
            "Epoch 22/32\n",
            "98/98 [==============================] - 69s 665ms/step - loss: 1.7333 - accuracy: 0.5178 - val_loss: 1.2918 - val_accuracy: 0.6809\n",
            "Epoch 23/32\n",
            "98/98 [==============================] - 70s 675ms/step - loss: 1.7573 - accuracy: 0.5223 - val_loss: 1.3384 - val_accuracy: 0.6410\n",
            "Epoch 24/32\n",
            "98/98 [==============================] - 70s 670ms/step - loss: 1.6397 - accuracy: 0.5502 - val_loss: 1.2208 - val_accuracy: 0.6838\n",
            "Epoch 25/32\n",
            "98/98 [==============================] - 68s 652ms/step - loss: 1.5179 - accuracy: 0.5859 - val_loss: 1.0961 - val_accuracy: 0.7151\n",
            "Epoch 26/32\n",
            "98/98 [==============================] - 71s 681ms/step - loss: 1.4858 - accuracy: 0.5897 - val_loss: 1.1269 - val_accuracy: 0.7493\n",
            "Epoch 27/32\n",
            "98/98 [==============================] - 71s 682ms/step - loss: 1.3549 - accuracy: 0.6161 - val_loss: 1.0650 - val_accuracy: 0.7550\n",
            "Epoch 28/32\n",
            "98/98 [==============================] - 70s 674ms/step - loss: 1.3607 - accuracy: 0.6305 - val_loss: 1.0059 - val_accuracy: 0.7635\n",
            "Epoch 29/32\n",
            "98/98 [==============================] - 70s 671ms/step - loss: 1.2564 - accuracy: 0.6488 - val_loss: 1.0214 - val_accuracy: 0.7578\n",
            "Epoch 30/32\n",
            "98/98 [==============================] - 70s 677ms/step - loss: 1.1256 - accuracy: 0.6902 - val_loss: 0.9336 - val_accuracy: 0.7692\n",
            "Epoch 31/32\n",
            "98/98 [==============================] - 70s 676ms/step - loss: 1.0688 - accuracy: 0.6957 - val_loss: 0.9123 - val_accuracy: 0.7977\n",
            "Epoch 32/32\n",
            "98/98 [==============================] - 71s 682ms/step - loss: 1.0438 - accuracy: 0.7104 - val_loss: 0.7367 - val_accuracy: 0.8462\n"
          ]
        }
      ],
      "source": [
        "training_history = cnn.fit(x=training_set,validation_data=validation_set,epochs=32)"
      ]
    },
    {
      "cell_type": "markdown",
      "metadata": {
        "id": "19E3mwj1phoW"
      },
      "source": [
        "##Evaluating Model"
      ]
    },
    {
      "cell_type": "code",
      "execution_count": 18,
      "metadata": {
        "colab": {
          "base_uri": "https://localhost:8080/"
        },
        "id": "iY6o3uxjpgl5",
        "outputId": "c97605cb-1c8b-46b4-8534-8833738ecf90"
      },
      "outputs": [
        {
          "output_type": "stream",
          "name": "stdout",
          "text": [
            "98/98 [==============================] - 60s 569ms/step - loss: 0.6650 - accuracy: 0.8234\n",
            "Training accuracy: 0.8234350085258484\n"
          ]
        }
      ],
      "source": [
        "#Training set Accuracy\n",
        "train_loss, train_acc = cnn.evaluate(training_set)\n",
        "print('Training accuracy:', train_acc)"
      ]
    },
    {
      "cell_type": "code",
      "execution_count": 19,
      "metadata": {
        "colab": {
          "base_uri": "https://localhost:8080/"
        },
        "id": "5SaQgd7bpgwl",
        "outputId": "03f0d465-0fdc-43fa-c2c7-c627ea808587"
      },
      "outputs": [
        {
          "output_type": "stream",
          "name": "stdout",
          "text": [
            "11/11 [==============================] - 9s 225ms/step - loss: 0.7367 - accuracy: 0.8462\n",
            "Validation accuracy: 0.8461538553237915\n"
          ]
        }
      ],
      "source": [
        "#Validation set Accuracy\n",
        "val_loss, val_acc = cnn.evaluate(validation_set)\n",
        "print('Validation accuracy:', val_acc)"
      ]
    },
    {
      "cell_type": "markdown",
      "metadata": {
        "id": "Qxp0xsjVBGec"
      },
      "source": [
        "##Saving Model"
      ]
    },
    {
      "cell_type": "code",
      "execution_count": 20,
      "metadata": {
        "colab": {
          "base_uri": "https://localhost:8080/"
        },
        "id": "EEUrBzCrxKt_",
        "outputId": "adf58e9c-dbd4-4ecc-ea52-c6112e871c19"
      },
      "outputs": [
        {
          "output_type": "stream",
          "name": "stderr",
          "text": [
            "/usr/local/lib/python3.10/dist-packages/keras/src/engine/training.py:3103: UserWarning: You are saving your model as an HDF5 file via `model.save()`. This file format is considered legacy. We recommend using instead the native Keras format, e.g. `model.save('my_model.keras')`.\n",
            "  saving_api.save_model(\n"
          ]
        }
      ],
      "source": [
        "cnn.save('trained_model.h5')"
      ]
    },
    {
      "cell_type": "code",
      "execution_count": 21,
      "metadata": {
        "id": "BM-sILNMBwh1",
        "colab": {
          "base_uri": "https://localhost:8080/"
        },
        "outputId": "fb6121cb-62af-4cd7-9add-143a2eaef873"
      },
      "outputs": [
        {
          "output_type": "execute_result",
          "data": {
            "text/plain": [
              "{'loss': [8.897404670715332,\n",
              "  3.5748696327209473,\n",
              "  3.5681142807006836,\n",
              "  3.5508100986480713,\n",
              "  3.4778337478637695,\n",
              "  3.3587446212768555,\n",
              "  3.2528090476989746,\n",
              "  3.111349105834961,\n",
              "  3.0235018730163574,\n",
              "  2.955289363861084,\n",
              "  2.743891716003418,\n",
              "  2.6333532333374023,\n",
              "  2.5564990043640137,\n",
              "  2.3933804035186768,\n",
              "  2.2838261127471924,\n",
              "  2.2086026668548584,\n",
              "  2.1316795349121094,\n",
              "  2.0769546031951904,\n",
              "  1.9627692699432373,\n",
              "  1.9046646356582642,\n",
              "  1.8167303800582886,\n",
              "  1.733288049697876,\n",
              "  1.7573390007019043,\n",
              "  1.639689326286316,\n",
              "  1.5178718566894531,\n",
              "  1.4857929944992065,\n",
              "  1.354901671409607,\n",
              "  1.3606764078140259,\n",
              "  1.256386637687683,\n",
              "  1.1255863904953003,\n",
              "  1.068841814994812,\n",
              "  1.0437566041946411],\n",
              " 'accuracy': [0.027608346194028854,\n",
              "  0.03402889147400856,\n",
              "  0.041091494262218475,\n",
              "  0.0423756018280983,\n",
              "  0.06709470599889755,\n",
              "  0.08667736500501633,\n",
              "  0.1091492772102356,\n",
              "  0.13611556589603424,\n",
              "  0.16115570068359375,\n",
              "  0.18394863605499268,\n",
              "  0.23820224404335022,\n",
              "  0.2683788239955902,\n",
              "  0.2943820357322693,\n",
              "  0.33483144640922546,\n",
              "  0.36853933334350586,\n",
              "  0.3733547329902649,\n",
              "  0.4118780195713043,\n",
              "  0.4141252040863037,\n",
              "  0.46131619811058044,\n",
              "  0.469341903924942,\n",
              "  0.4895666241645813,\n",
              "  0.5178170204162598,\n",
              "  0.5223113894462585,\n",
              "  0.5502407550811768,\n",
              "  0.5858747959136963,\n",
              "  0.5897271037101746,\n",
              "  0.6160513758659363,\n",
              "  0.6304975748062134,\n",
              "  0.6487961411476135,\n",
              "  0.6902086734771729,\n",
              "  0.6956661343574524,\n",
              "  0.7104333639144897],\n",
              " 'val_loss': [3.576629638671875,\n",
              "  3.5601768493652344,\n",
              "  3.5528616905212402,\n",
              "  3.505581855773926,\n",
              "  3.3671329021453857,\n",
              "  3.1541154384613037,\n",
              "  2.987225294113159,\n",
              "  2.7916417121887207,\n",
              "  2.5626988410949707,\n",
              "  2.6220035552978516,\n",
              "  2.331005573272705,\n",
              "  2.2650530338287354,\n",
              "  2.2642247676849365,\n",
              "  2.0181212425231934,\n",
              "  1.8994932174682617,\n",
              "  1.8350054025650024,\n",
              "  1.7713311910629272,\n",
              "  1.695013403892517,\n",
              "  1.5412719249725342,\n",
              "  1.612207293510437,\n",
              "  1.4499847888946533,\n",
              "  1.2918154001235962,\n",
              "  1.3384019136428833,\n",
              "  1.220809817314148,\n",
              "  1.0960720777511597,\n",
              "  1.1268749237060547,\n",
              "  1.065039873123169,\n",
              "  1.0058748722076416,\n",
              "  1.021415114402771,\n",
              "  0.9335653185844421,\n",
              "  0.9122506380081177,\n",
              "  0.7367303371429443],\n",
              " 'val_accuracy': [0.04273504391312599,\n",
              "  0.04273504391312599,\n",
              "  0.04273504391312599,\n",
              "  0.054131053388118744,\n",
              "  0.1339031308889389,\n",
              "  0.1538461595773697,\n",
              "  0.20512820780277252,\n",
              "  0.25356125831604004,\n",
              "  0.32193732261657715,\n",
              "  0.3304843306541443,\n",
              "  0.3988603949546814,\n",
              "  0.404558390378952,\n",
              "  0.41310539841651917,\n",
              "  0.47578346729278564,\n",
              "  0.49857550859451294,\n",
              "  0.5242165327072144,\n",
              "  0.5327635407447815,\n",
              "  0.561253547668457,\n",
              "  0.5954415798187256,\n",
              "  0.5783475637435913,\n",
              "  0.6125355958938599,\n",
              "  0.680911660194397,\n",
              "  0.6410256624221802,\n",
              "  0.6837607026100159,\n",
              "  0.7150996923446655,\n",
              "  0.7492877244949341,\n",
              "  0.7549857497215271,\n",
              "  0.7635327577590942,\n",
              "  0.7578347325325012,\n",
              "  0.7692307829856873,\n",
              "  0.7977207899093628,\n",
              "  0.8461538553237915]}"
            ]
          },
          "metadata": {},
          "execution_count": 21
        }
      ],
      "source": [
        "training_history.history #Return Dictionary of history"
      ]
    },
    {
      "cell_type": "code",
      "execution_count": 22,
      "metadata": {
        "id": "GdF3Ig4ZBU9V"
      },
      "outputs": [],
      "source": [
        "#Recording History in json\n",
        "import json\n",
        "with open('training_hist.json','w') as f:\n",
        "  json.dump(training_history.history,f)"
      ]
    },
    {
      "cell_type": "code",
      "execution_count": 23,
      "metadata": {
        "id": "w8PnAYbuCNhu",
        "colab": {
          "base_uri": "https://localhost:8080/"
        },
        "outputId": "24665f4a-66d8-4b45-9ae6-668cbecc9b11"
      },
      "outputs": [
        {
          "output_type": "stream",
          "name": "stdout",
          "text": [
            "dict_keys(['loss', 'accuracy', 'val_loss', 'val_accuracy'])\n"
          ]
        }
      ],
      "source": [
        "print(training_history.history.keys())"
      ]
    },
    {
      "cell_type": "markdown",
      "metadata": {
        "id": "ZwTEcIavCjZ8"
      },
      "source": [
        "##Calculating Accuracy of Model Achieved on Validation set"
      ]
    },
    {
      "cell_type": "code",
      "execution_count": 24,
      "metadata": {
        "id": "Z8Q2t6FXCUzR",
        "colab": {
          "base_uri": "https://localhost:8080/"
        },
        "outputId": "940d49ec-65a3-43bb-8eaa-f5530c6ef6b6"
      },
      "outputs": [
        {
          "output_type": "stream",
          "name": "stdout",
          "text": [
            "Validation set Accuracy: 84.61538553237915 %\n"
          ]
        }
      ],
      "source": [
        "print(\"Validation set Accuracy: {} %\".format(training_history.history['val_accuracy'][-1]*100))"
      ]
    },
    {
      "cell_type": "markdown",
      "metadata": {
        "id": "qNIMPXKFEZ5B"
      },
      "source": [
        "#Accuracy Visualization"
      ]
    },
    {
      "cell_type": "markdown",
      "metadata": {
        "id": "Mdg9Zjp2EfSa"
      },
      "source": [
        "##Training Visualization"
      ]
    },
    {
      "cell_type": "code",
      "execution_count": 25,
      "metadata": {
        "id": "fAvJjfBAFNJx"
      },
      "outputs": [],
      "source": [
        "#training_history.history['accuracy']"
      ]
    },
    {
      "cell_type": "code",
      "execution_count": 26,
      "metadata": {
        "colab": {
          "base_uri": "https://localhost:8080/",
          "height": 472
        },
        "id": "gfKdieuJCt3m",
        "outputId": "4246e1c0-a577-47f9-b737-e08644590032"
      },
      "outputs": [
        {
          "output_type": "display_data",
          "data": {
            "text/plain": [
              "<Figure size 640x480 with 1 Axes>"
            ],
            "image/png": "[encoded data removed]"
          },
          "metadata": {}
        }
      ],
      "source": [
        "epochs = [i for i in range(1,33)]\n",
        "plt.plot(epochs,training_history.history['accuracy'],color='red')\n",
        "plt.xlabel('No. of Epochs')\n",
        "plt.ylabel('Traiining Accuracy')\n",
        "plt.title('Visualization of Training Accuracy Result')\n",
        "plt.show()"
      ]
    },
    {
      "cell_type": "markdown",
      "metadata": {
        "id": "FbOcpJL1FvJG"
      },
      "source": [
        "##Validation Accuracy"
      ]
    },
    {
      "cell_type": "code",
      "execution_count": 27,
      "metadata": {
        "colab": {
          "base_uri": "https://localhost:8080/",
          "height": 472
        },
        "id": "ZXyC9WAJEs-B",
        "outputId": "16d2e29d-db2f-4387-de5d-54df6029f66d"
      },
      "outputs": [
        {
          "output_type": "display_data",
          "data": {
            "text/plain": [
              "<Figure size 640x480 with 1 Axes>"
            ],
            "image/png": "[encoded data removed]"
          },
          "metadata": {}
        }
      ],
      "source": [
        "plt.plot(epochs,training_history.history['val_accuracy'],color='blue')\n",
        "plt.xlabel('No. of Epochs')\n",
        "plt.ylabel('Validation Accuracy')\n",
        "plt.title('Visualization of Validation Accuracy Result')\n",
        "plt.show()"
      ]
    },
    {
      "cell_type": "code",
      "execution_count": 27,
      "metadata": {
        "id": "6mB3DkYFEuRg"
      },
      "outputs": [],
      "source": []
    },
    {
      "cell_type": "markdown",
      "metadata": {
        "id": "IJfYwGbmASaL"
      },
      "source": [
        "##Test set Evaluation"
      ]
    },
    {
      "cell_type": "code",
      "execution_count": 29,
      "metadata": {
        "colab": {
          "base_uri": "https://localhost:8080/"
        },
        "id": "fGs_0S4AAUj_",
        "outputId": "29a5d846-d5be-4e30-a04a-a723fe25aec4"
      },
      "outputs": [
        {
          "output_type": "stream",
          "name": "stdout",
          "text": [
            "Found 359 files belonging to 36 classes.\n"
          ]
        }
      ],
      "source": [
        "test_set = tf.keras.utils.image_dataset_from_directory(\n",
        "    '/content/drive/MyDrive/Các thuật toán tối ưu/Fruits and vegetables detection/test',\n",
        "    labels=\"inferred\",\n",
        "    label_mode=\"categorical\",\n",
        "    class_names=None,\n",
        "    color_mode=\"rgb\",\n",
        "    batch_size=32,\n",
        "    image_size=(64, 64),\n",
        "    shuffle=True,\n",
        "    seed=None,\n",
        "    validation_split=None,\n",
        "    subset=None,\n",
        "    interpolation=\"bilinear\",\n",
        "    follow_links=False,\n",
        "    crop_to_aspect_ratio=False\n",
        ")"
      ]
    },
    {
      "cell_type": "code",
      "execution_count": 30,
      "metadata": {
        "colab": {
          "base_uri": "https://localhost:8080/"
        },
        "id": "GdMcF4vnAYuM",
        "outputId": "85f1706e-f89f-4373-e103-80d7bf111373"
      },
      "outputs": [
        {
          "output_type": "stream",
          "name": "stdout",
          "text": [
            "12/12 [==============================] - 43s 785ms/step - loss: 0.7266 - accuracy: 0.8468\n",
            "Test accuracy: 0.8467966318130493\n"
          ]
        }
      ],
      "source": [
        "test_loss,test_acc = cnn.evaluate(test_set)\n",
        "print('Test accuracy:', test_acc)"
      ]
    }
  ],
  "metadata": {
    "colab": {
      "provenance": [],
      "collapsed_sections": [
        "BeB10ZMav-SW",
        "5vUbBvinu8zW",
        "i2w52yYrvTu9",
        "OQ_TcbD7r2Cw",
        "qNIMPXKFEZ5B"
      ],
      "gpuType": "T4",
      "include_colab_link": true
    },
    "kernelspec": {
      "display_name": "Python 3",
      "name": "python3"
    },
    "language_info": {
      "name": "python"
    },
    "accelerator": "GPU"
  },
  "nbformat": 4,
  "nbformat_minor": 0
}